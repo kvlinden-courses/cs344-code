{
 "cells": [
  {
   "cell_type": "markdown",
   "source": [
    "# Resolution\n",
    "\n",
    "As with propositional logic, we can implement inference for first-order logic \n",
    "systems using (only) *generalized resolution* and *unification* \n",
    "(see AIMA Section 7.5.2 on resolution for propositional logic and \n",
    "Section 9.5 on resolution for first-order logic)\n",
    "\n",
    "Given:\n",
    "\n",
    "${l_1 \\lor ... \\lor l_j \\lor ... \\lor l_m}$\n",
    "\n",
    "${m_1 \\lor ... \\lor m_k \\lor ... \\lor m_n}$\n",
    "\n",
    "$\\textrm{UNIFY}(l_j, \\neg m_k) = \\theta$\n",
    "\n",
    "Conclude:\n",
    "\n",
    "$\n",
    "\\textrm{SUBST}(\\theta, {l_1 \\lor ... \\lor l_{j-1} \\lor l_{j+1} \\lor ... \\lor l_m \\lor m_1 \\lor ... \\lor m_{k-1} \\lor m_{k+1} \\lor ... \\lor m_n})\n",
    "$\n"
   ],
   "metadata": {
    "pycharm": {
     "metadata": false
    }
   }
  }
 ],
 "metadata": {
  "language_info": {
   "codemirror_mode": {
    "name": "ipython",
    "version": 2
   },
   "file_extension": ".py",
   "mimetype": "text/x-python",
   "name": "python",
   "nbconvert_exporter": "python",
   "pygments_lexer": "ipython2",
   "version": "2.7.6"
  },
  "kernelspec": {
   "name": "python3",
   "language": "python",
   "display_name": "Python 3"
  },
  "stem_cell": {
   "cell_type": "raw",
   "source": "",
   "metadata": {
    "pycharm": {
     "metadata": false
    }
   }
  },
  "pycharm": {
   "stem_cell": {
    "cell_type": "raw",
    "source": [],
    "metadata": {
     "collapsed": false
    }
   }
  }
 },
 "nbformat": 4,
 "nbformat_minor": 0
}